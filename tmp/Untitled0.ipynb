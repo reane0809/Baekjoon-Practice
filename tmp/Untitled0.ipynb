{
  "nbformat": 4,
  "nbformat_minor": 0,
  "metadata": {
    "colab": {
      "provenance": []
    },
    "kernelspec": {
      "name": "python3",
      "display_name": "Python 3"
    },
    "language_info": {
      "name": "python"
    }
  },
  "cells": [
    {
      "cell_type": "code",
      "execution_count": 4,
      "metadata": {
        "colab": {
          "base_uri": "https://localhost:8080/"
        },
        "id": "KsaQfp4DOxy1",
        "outputId": "8ef7f180-0f2a-4513-836b-4d95943d72c3"
      },
      "outputs": [
        {
          "output_type": "stream",
          "name": "stdout",
          "text": [
            "I = 0.8718\n"
          ]
        }
      ],
      "source": [
        "## 예제\n",
        "\n",
        "import numpy as np\n",
        "\n",
        "def f(x):\n",
        "  return x**2 * np.exp(-x)\n",
        "\n",
        "n = 3\n",
        "a = 2.0\n",
        "b = 4.0\n",
        "h = (b-a)/n\n",
        "x = np.linspace(a,b,n+1)\n",
        "\n",
        "sums = 0.0\n",
        "for i in range(n):\n",
        "  sums += f(x[i]) + f(x[i+1])\n",
        "result = h*sums/2\n",
        "print(f'I = {result:0.4f}')"
      ]
    },
    {
      "cell_type": "code",
      "source": [
        "import numpy as np\n",
        "\n",
        "def f(x):\n",
        "  return x**2 * np.exp(-x)\n",
        "\n",
        "n = 4\n",
        "a = 2.0\n",
        "b = 4.0\n",
        "h = (b-a)/n\n",
        "x = np.linspace(a,b,n+1)\n",
        "\n",
        "sums = f(x[0]) + f(x[n])\n",
        "for i in range(1,n):\n",
        "  if i%2 == 0:\n",
        "    sums += 2 * f(x[i])\n",
        "  else:\n",
        "    sums += 4 * f(x[i])\n",
        "sums = h * sums/3\n",
        "print(f'I = {sums:0.4f}')"
      ],
      "metadata": {
        "colab": {
          "base_uri": "https://localhost:8080/"
        },
        "id": "xjwyIVlvOyq9",
        "outputId": "27122df9-b229-43e3-c4b9-f4869f566d4b"
      },
      "execution_count": 6,
      "outputs": [
        {
          "output_type": "stream",
          "name": "stdout",
          "text": [
            "I = 0.8771\n"
          ]
        }
      ]
    },
    {
      "cell_type": "code",
      "source": [
        "import numpy as np\n",
        "\n",
        "fx= np.array([1.0, 1.5, 2.0, 2.5, 3.0])\n",
        "\n",
        "a = 0.0\n",
        "b = 4.0\n",
        "\n",
        "n = len(fx)\n",
        "N = n-1\n",
        "h = (b-a)/N\n",
        "\n",
        "sums = 0.0\n",
        "for i in range(N):\n",
        "    sums += fx[i] + fx[i+1]\n",
        "I = h*sums/2\n",
        "print(f'I = {I:0.4f}')"
      ],
      "metadata": {
        "colab": {
          "base_uri": "https://localhost:8080/"
        },
        "id": "7nhZA3nzOy6l",
        "outputId": "c5c21790-a56f-44c3-d2e6-8bbde248e828"
      },
      "execution_count": 7,
      "outputs": [
        {
          "output_type": "stream",
          "name": "stdout",
          "text": [
            "I = 8.0000\n"
          ]
        }
      ]
    },
    {
      "cell_type": "code",
      "source": [
        "## From Hand Book\n",
        "import numpy as np\n",
        "from scipy import integrate as tg\n",
        "\n",
        "def f(x):\n",
        "  return x**2 * np.exp(-x)\n",
        "\n",
        "result = tg.quad(f, 2, 4)\n",
        "print(f'result = {result[0]:0.4f}')\n",
        "#result ##오차율과 소수끝자리까지 출력"
      ],
      "metadata": {
        "colab": {
          "base_uri": "https://localhost:8080/"
        },
        "id": "rP1Alt-CXRlG",
        "outputId": "e63676e6-d5ce-495d-fc48-2ad7ed3f1094"
      },
      "execution_count": 8,
      "outputs": [
        {
          "output_type": "stream",
          "name": "stdout",
          "text": [
            "result = 0.8771\n"
          ]
        }
      ]
    },
    {
      "cell_type": "code",
      "source": [
        "gauss = tg.quadrature(f, 2, 4)\n",
        "print(f'gauss = {gauss[0]:0.4f}')"
      ],
      "metadata": {
        "colab": {
          "base_uri": "https://localhost:8080/"
        },
        "id": "-9sPQsRzYJi2",
        "outputId": "ba6849ef-abc3-491a-e132-2e12fd091148"
      },
      "execution_count": 10,
      "outputs": [
        {
          "output_type": "stream",
          "name": "stdout",
          "text": [
            "gauss = 0.8771\n"
          ]
        }
      ]
    },
    {
      "cell_type": "code",
      "source": [
        "def f2(x):\n",
        "  return np.exp(x)*np.sin(x)/(np.cos(2*x) + 3)"
      ],
      "metadata": {
        "id": "qSdTOe65YxHG"
      },
      "execution_count": 11,
      "outputs": []
    },
    {
      "cell_type": "code",
      "source": [
        "result2 = tg.quad(f2, 0, 1)\n",
        "print(f'result = {result2[0]:0.4f}')"
      ],
      "metadata": {
        "colab": {
          "base_uri": "https://localhost:8080/"
        },
        "id": "inJLdVz1ZBmk",
        "outputId": "5e5d35d0-8094-4587-a2eb-7e97c206233d"
      },
      "execution_count": 12,
      "outputs": [
        {
          "output_type": "stream",
          "name": "stdout",
          "text": [
            "result = 0.2949\n"
          ]
        }
      ]
    },
    {
      "cell_type": "code",
      "source": [
        "gauss2 = tg.quadrature(f2, 0, 1)\n",
        "print(f'gauss = {gauss2[0]:0.4f}')"
      ],
      "metadata": {
        "colab": {
          "base_uri": "https://localhost:8080/"
        },
        "id": "UQIBj0OuZRq9",
        "outputId": "fcb9743c-d31e-4066-f276-f79faff9c101"
      },
      "execution_count": 13,
      "outputs": [
        {
          "output_type": "stream",
          "name": "stdout",
          "text": [
            "gauss = 0.2949\n"
          ]
        }
      ]
    },
    {
      "cell_type": "code",
      "source": [
        "x = np.arange(0,5)\n",
        "y = np.array([1.0, 1.5, 2.0, 2.5, 3.0])\n",
        "x,y"
      ],
      "metadata": {
        "colab": {
          "base_uri": "https://localhost:8080/"
        },
        "id": "nBNLoMEaZR3z",
        "outputId": "4b34c015-2503-4b80-e1c7-13a84341f4e0"
      },
      "execution_count": 15,
      "outputs": [
        {
          "output_type": "execute_result",
          "data": {
            "text/plain": [
              "(array([0, 1, 2, 3, 4]), array([1. , 1.5, 2. , 2.5, 3. ]))"
            ]
          },
          "metadata": {},
          "execution_count": 15
        }
      ]
    },
    {
      "cell_type": "code",
      "source": [
        "trape = tg.trapezoid(y,x)\n",
        "print(f'trapezoid = {trape}')"
      ],
      "metadata": {
        "colab": {
          "base_uri": "https://localhost:8080/"
        },
        "id": "xVABKNOSaJJe",
        "outputId": "af299c3e-0b31-4d68-fc39-9193420c8f90"
      },
      "execution_count": 16,
      "outputs": [
        {
          "output_type": "stream",
          "name": "stdout",
          "text": [
            "trapezoid = 8.0\n"
          ]
        }
      ]
    },
    {
      "cell_type": "code",
      "source": [
        "simpson = tg.simpson(y,x)\n",
        "print(f'simpson = {simpson}')"
      ],
      "metadata": {
        "colab": {
          "base_uri": "https://localhost:8080/"
        },
        "id": "ExTkbpeeaZtt",
        "outputId": "d50bf929-e80a-4383-be83-a3450892d4f8"
      },
      "execution_count": 17,
      "outputs": [
        {
          "output_type": "stream",
          "name": "stdout",
          "text": [
            "simpson = 8.0\n"
          ]
        }
      ]
    },
    {
      "cell_type": "code",
      "source": [
        "## 함수 만들기\n",
        "##  f(x) = (20sin(x)+x**2) / (x**4 * cos(-x)), 2<=x<=4\n",
        "\n",
        "import numpy as np\n",
        "from scipy import integrate as tg\n",
        "\n",
        "def f(x):\n",
        "  return 19*np.sin(x) + x**2 / x**4 * np.cos(-x)\n",
        "\n",
        "tmp = tg.quad(f, 2, 4)\n",
        "print(f'result = {tmp[0]:0.4f}')"
      ],
      "metadata": {
        "colab": {
          "base_uri": "https://localhost:8080/"
        },
        "id": "Oc4U-ps6XnEF",
        "outputId": "d7cb4652-b51f-4701-e93a-c5e6b9e51522"
      },
      "execution_count": 22,
      "outputs": [
        {
          "output_type": "stream",
          "name": "stdout",
          "text": [
            "result = 4.3150\n"
          ]
        }
      ]
    },
    {
      "cell_type": "code",
      "source": [
        "## data 만들기\n",
        "## x =  1, 2, 3, 4, 5, 6\n",
        "## y = 0, 18, 42, 57, 68, 72\n",
        "\n",
        "x = np.arange(1,7)\n",
        "y = np.array([0, 18, 42, 57, 68, 72])\n",
        "\n",
        "trape = tg.trapezoid(y,x)\n",
        "print(f'trapezoid = {trape}')\n",
        "\n",
        "simpson = tg.simpson(y,x)\n",
        "print(f'simpson = {simpson}')"
      ],
      "metadata": {
        "colab": {
          "base_uri": "https://localhost:8080/"
        },
        "id": "3SdSlZwJdRpF",
        "outputId": "414f6183-1864-47c0-cefd-c41d4ef5455e"
      },
      "execution_count": 27,
      "outputs": [
        {
          "output_type": "stream",
          "name": "stdout",
          "text": [
            "trapezoid = 221.0\n",
            "simpson = 222.16666666666666\n"
          ]
        }
      ]
    },
    {
      "cell_type": "code",
      "source": [
        "import scipy\n",
        "print(scipy.__version__) ##scipy 버젼 확인\n",
        "print(np.__version__) ##numpy 버전 확인"
      ],
      "metadata": {
        "colab": {
          "base_uri": "https://localhost:8080/"
        },
        "id": "yVXjrghufsDt",
        "outputId": "ee00677c-a848-4250-cb18-aafa13263c40"
      },
      "execution_count": 29,
      "outputs": [
        {
          "output_type": "stream",
          "name": "stdout",
          "text": [
            "1.7.3\n",
            "1.21.6\n"
          ]
        }
      ]
    }
  ]
}